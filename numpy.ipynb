{
  "nbformat": 4,
  "nbformat_minor": 0,
  "metadata": {
    "colab": {
      "provenance": [],
      "authorship_tag": "ABX9TyPJ6UWpgfsoT9gfFC5KU0BE",
      "include_colab_link": true
    },
    "kernelspec": {
      "name": "python3",
      "display_name": "Python 3"
    },
    "language_info": {
      "name": "python"
    }
  },
  "cells": [
    {
      "cell_type": "markdown",
      "metadata": {
        "id": "view-in-github",
        "colab_type": "text"
      },
      "source": [
        "<a href=\"https://colab.research.google.com/github/akbhrr/Numpy/blob/main/numpy.ipynb\" target=\"_parent\"><img src=\"https://colab.research.google.com/assets/colab-badge.svg\" alt=\"Open In Colab\"/></a>"
      ]
    },
    {
      "cell_type": "markdown",
      "source": [
        "#numpy\n",
        "\n"
      ],
      "metadata": {
        "id": "2sKAwKymJHk0"
      }
    },
    {
      "cell_type": "code",
      "execution_count": null,
      "metadata": {
        "colab": {
          "base_uri": "https://localhost:8080/"
        },
        "id": "sb2HMgyXFXzh",
        "outputId": "3a49f875-c511-493e-e354-a0d846dbb1a9"
      },
      "outputs": [
        {
          "output_type": "stream",
          "name": "stdout",
          "text": [
            "['4' '3']\n"
          ]
        }
      ],
      "source": [
        "import numpy as np #numerical python\n",
        "\n",
        "\n",
        "#array - collection of data with same type of data(homogenious)\n",
        "a=np.array([1,2,3,4,\"a\"])\n",
        "\n",
        "print(a)\n"
      ]
    },
    {
      "cell_type": "markdown",
      "source": [
        "#slicing"
      ],
      "metadata": {
        "id": "i7-3LCKQJW2m"
      }
    },
    {
      "cell_type": "code",
      "source": [
        "#slicing-forward & backword"
      ],
      "metadata": {
        "id": "DcE_ImbvHRXV"
      },
      "execution_count": null,
      "outputs": []
    },
    {
      "cell_type": "code",
      "source": [],
      "metadata": {
        "id": "M0YGogCqJYCn"
      },
      "execution_count": null,
      "outputs": []
    },
    {
      "cell_type": "code",
      "source": [
        "b=np.array([1,2,3,4,5,6])\n",
        "print(b[0:2:1])\n",
        "print(b[-2:-4:-1])\n",
        "print(b[3:5:1])\n",
        "print(b[-5::-1])"
      ],
      "metadata": {
        "colab": {
          "base_uri": "https://localhost:8080/"
        },
        "id": "BboRH_0xHtSr",
        "outputId": "222d14b6-f597-4410-a3a2-13d74a1c6ff0"
      },
      "execution_count": null,
      "outputs": [
        {
          "output_type": "stream",
          "name": "stdout",
          "text": [
            "[1 2]\n",
            "[5 4]\n",
            "[4 5]\n",
            "[2 1]\n"
          ]
        }
      ]
    },
    {
      "cell_type": "markdown",
      "source": [
        "#Dimension"
      ],
      "metadata": {
        "id": "3MJY90a9JS-U"
      }
    },
    {
      "cell_type": "code",
      "source": [
        "#dimension\n",
        "a=np.array([0,2,3,4,5])\n",
        "b=np.array([[1,2,3],[3,4,5]])\n",
        "a.ndim #dimension=1 vector\n",
        "b.ndim #dimesnion=2 matrix\n",
        "\n",
        "print(a)\n",
        "print(b.shape)"
      ],
      "metadata": {
        "colab": {
          "base_uri": "https://localhost:8080/"
        },
        "id": "TdggHsHyJFT6",
        "outputId": "b8057fcc-1a25-42b4-d8c4-f0c4e9e916fc"
      },
      "execution_count": null,
      "outputs": [
        {
          "output_type": "stream",
          "name": "stdout",
          "text": [
            "[0 2 3 4 5]\n",
            "(2, 3)\n"
          ]
        }
      ]
    },
    {
      "cell_type": "code",
      "source": [
        "#create a matrix [[]] 2x2 [2,3],[4,5]\n",
        "a=np.array([[2,3],[4,5]])\n",
        "print(a)\n",
        "print(\"shape of matrix is \",a.shape)\n",
        "print(\"dimension =\",a.ndim)\n",
        "print(\"size of matrix is \",a.size)"
      ],
      "metadata": {
        "colab": {
          "base_uri": "https://localhost:8080/"
        },
        "id": "I4pqAypuKcbu",
        "outputId": "d775fed6-10a2-4a72-9e72-e7b5bc9f49a7"
      },
      "execution_count": null,
      "outputs": [
        {
          "output_type": "stream",
          "name": "stdout",
          "text": [
            "[[2 3]\n",
            " [4 5]]\n",
            "shape of matrix is  (2, 2)\n",
            "dimension = 2\n",
            "size of matrix is  4\n"
          ]
        }
      ]
    },
    {
      "cell_type": "code",
      "source": [
        "a=np.array([[1,2,3],[4,5,6]])\n",
        "print(a)\n",
        "print(a.ndim)\n",
        "print(a.shape)\n",
        "print(a.size)"
      ],
      "metadata": {
        "colab": {
          "base_uri": "https://localhost:8080/"
        },
        "id": "pXoib5TELf4a",
        "outputId": "ddfcf010-7d1d-48b6-c2f7-114c6b5e674b"
      },
      "execution_count": null,
      "outputs": [
        {
          "output_type": "stream",
          "name": "stdout",
          "text": [
            "[[1 2 3]\n",
            " [4 5 6]]\n",
            "2\n",
            "(2, 3)\n",
            "6\n"
          ]
        }
      ]
    },
    {
      "cell_type": "code",
      "source": [
        "#create 4x2 matrix\n",
        "a=np.array([[1,2],[4,5],[2,3],[5,8]])\n",
        "print(a)\n",
        "print(a.ndim)\n",
        "print(a.shape)\n",
        "print(a.size)"
      ],
      "metadata": {
        "colab": {
          "base_uri": "https://localhost:8080/"
        },
        "id": "QxZRoPBuMV6D",
        "outputId": "296bbeee-33ca-426b-87db-d1a4a3bd4672"
      },
      "execution_count": null,
      "outputs": [
        {
          "output_type": "stream",
          "name": "stdout",
          "text": [
            "[[1 2]\n",
            " [4 5]\n",
            " [2 3]\n",
            " [5 8]]\n",
            "2\n",
            "(4, 2)\n",
            "8\n"
          ]
        }
      ]
    },
    {
      "cell_type": "code",
      "source": [
        "#4x4\n",
        "a=np.array([[1,2,3,4],[4,5,6,7],[2,3,4,5],[5,8,9,7]])\n",
        "print(a)\n",
        "print(a.ndim)\n",
        "print(a.size)\n",
        "print(a.shape)"
      ],
      "metadata": {
        "colab": {
          "base_uri": "https://localhost:8080/"
        },
        "id": "kg6Y2h3ENfv0",
        "outputId": "d91d37e0-c26f-4c30-9c0d-0b09ecab2131"
      },
      "execution_count": null,
      "outputs": [
        {
          "output_type": "stream",
          "name": "stdout",
          "text": [
            "[[1 2 3 4]\n",
            " [4 5 6 7]\n",
            " [2 3 4 5]\n",
            " [5 8 9 7]]\n",
            "2\n",
            "16\n",
            "(4, 4)\n"
          ]
        }
      ]
    },
    {
      "cell_type": "code",
      "source": [
        "import numpy as np\n",
        "\n",
        "a=np.array([[1,2,3,4],[1,2,4,5],[3,4,5,6]])\n",
        "print(a.ndim)\n",
        "print(a.shape)\n",
        "print(a.size)\n",
        "print(a)\n",
        "print(a[0])\n",
        "print(a[:,0])\n",
        "print(a[1,1])\n",
        "print(a[2,2:])\n",
        "print(\"that is\",a[1:,2:])"
      ],
      "metadata": {
        "id": "bpw22LXBOMd0",
        "colab": {
          "base_uri": "https://localhost:8080/"
        },
        "outputId": "8089540b-b9cb-4d83-a53b-ff4f738b32f4"
      },
      "execution_count": null,
      "outputs": [
        {
          "output_type": "stream",
          "name": "stdout",
          "text": [
            "2\n",
            "(3, 4)\n",
            "12\n",
            "[[1 2 3 4]\n",
            " [1 2 4 5]\n",
            " [3 4 5 6]]\n",
            "[1 2 3 4]\n",
            "[1 1 3]\n",
            "2\n",
            "[5 6]\n",
            "that is [[4 5]\n",
            " [5 6]]\n"
          ]
        }
      ]
    },
    {
      "cell_type": "code",
      "source": [
        "import numpy as np\n",
        "np.zeros([3,3,3],dtype=int)"
      ],
      "metadata": {
        "colab": {
          "base_uri": "https://localhost:8080/"
        },
        "id": "dev8eqRrltTM",
        "outputId": "bbc6e34d-ae0e-4260-d86a-702ec07aadcf"
      },
      "execution_count": null,
      "outputs": [
        {
          "output_type": "execute_result",
          "data": {
            "text/plain": [
              "array([[[0, 0, 0],\n",
              "        [0, 0, 0],\n",
              "        [0, 0, 0]],\n",
              "\n",
              "       [[0, 0, 0],\n",
              "        [0, 0, 0],\n",
              "        [0, 0, 0]],\n",
              "\n",
              "       [[0, 0, 0],\n",
              "        [0, 0, 0],\n",
              "        [0, 0, 0]]])"
            ]
          },
          "metadata": {},
          "execution_count": 2
        }
      ]
    },
    {
      "cell_type": "code",
      "source": [
        "a=np.zeros([3,2,2],dtype=int)#complex,int\n",
        "print(a)"
      ],
      "metadata": {
        "colab": {
          "base_uri": "https://localhost:8080/"
        },
        "id": "6c8YDejZJvCF",
        "outputId": "5017f0f5-a899-4239-e229-76bcfaaf2099"
      },
      "execution_count": null,
      "outputs": [
        {
          "output_type": "stream",
          "name": "stdout",
          "text": [
            "[[[0 0]\n",
            "  [0 0]]\n",
            "\n",
            " [[0 0]\n",
            "  [0 0]]\n",
            "\n",
            " [[0 0]\n",
            "  [0 0]]]\n"
          ]
        }
      ]
    },
    {
      "cell_type": "code",
      "source": [
        "a=np.ones([3,3,3],dtype=int)\n",
        "a"
      ],
      "metadata": {
        "colab": {
          "base_uri": "https://localhost:8080/"
        },
        "id": "6RYmvNqPKg-K",
        "outputId": "b2dc3a93-a3c1-45e4-d3c1-a7fc73e1c0f0"
      },
      "execution_count": null,
      "outputs": [
        {
          "output_type": "execute_result",
          "data": {
            "text/plain": [
              "array([[[1, 1, 1],\n",
              "        [1, 1, 1],\n",
              "        [1, 1, 1]],\n",
              "\n",
              "       [[1, 1, 1],\n",
              "        [1, 1, 1],\n",
              "        [1, 1, 1]],\n",
              "\n",
              "       [[1, 1, 1],\n",
              "        [1, 1, 1],\n",
              "        [1, 1, 1]]])"
            ]
          },
          "metadata": {},
          "execution_count": 41
        }
      ]
    },
    {
      "cell_type": "code",
      "source": [
        "a=np.array([[2,2],[2,2]])\n",
        "a"
      ],
      "metadata": {
        "colab": {
          "base_uri": "https://localhost:8080/"
        },
        "id": "lO8Z1SonKyVG",
        "outputId": "63d4b058-cd3d-4aa7-a13a-2d10def52f54"
      },
      "execution_count": null,
      "outputs": [
        {
          "output_type": "execute_result",
          "data": {
            "text/plain": [
              "array([[2, 2],\n",
              "       [2, 2]])"
            ]
          },
          "metadata": {},
          "execution_count": 46
        }
      ]
    },
    {
      "cell_type": "markdown",
      "source": [
        "#matrix operation-addition"
      ],
      "metadata": {
        "id": "5s84lApTLPtP"
      }
    },
    {
      "cell_type": "code",
      "source": [
        "a=np.array([[1,2],[3,4]])\n",
        "b=np.array([[4,5],[6,7]])\n",
        "print(a+b)"
      ],
      "metadata": {
        "colab": {
          "base_uri": "https://localhost:8080/"
        },
        "id": "J0XRjAOpLUgd",
        "outputId": "60a6c68c-517d-41e3-94b5-7817d9a389ca"
      },
      "execution_count": null,
      "outputs": [
        {
          "output_type": "stream",
          "name": "stdout",
          "text": [
            "[[ 4 10]\n",
            " [18 28]]\n"
          ]
        }
      ]
    },
    {
      "cell_type": "code",
      "source": [
        "#matrix multiplication\n",
        "a=np.array([[1,2],[3,4]])\n",
        "b=np.array([[4,5],[6,7]])\n",
        "print(a@b)\n",
        "print(a.dot(b))\n",
        "print(a/b)"
      ],
      "metadata": {
        "colab": {
          "base_uri": "https://localhost:8080/"
        },
        "id": "dwUeDT0ZMEQO",
        "outputId": "f7c6d0ad-7ad7-45b7-ce66-cb1ccaaed6cb"
      },
      "execution_count": null,
      "outputs": [
        {
          "output_type": "stream",
          "name": "stdout",
          "text": [
            "[[16 19]\n",
            " [36 43]]\n",
            "[[16 19]\n",
            " [36 43]]\n",
            "[[0.25       0.4       ]\n",
            " [0.5        0.57142857]]\n"
          ]
        }
      ]
    },
    {
      "cell_type": "code",
      "source": [
        "#matrix sub\n",
        "a=np.array([[1,2],[3,4]])\n",
        "b=np.array([[4,5],[6,7]])\n",
        "print(a-b)"
      ],
      "metadata": {
        "colab": {
          "base_uri": "https://localhost:8080/"
        },
        "id": "o9R_RL_yMDfT",
        "outputId": "e5e7da73-d1be-4d57-d07d-97cd3fd2b496"
      },
      "execution_count": null,
      "outputs": [
        {
          "output_type": "stream",
          "name": "stdout",
          "text": [
            "[[-3 -3]\n",
            " [-3 -3]]\n"
          ]
        }
      ]
    },
    {
      "cell_type": "code",
      "source": [
        "a=np.full([3,3,3],4,dtype=int)\n",
        "a"
      ],
      "metadata": {
        "colab": {
          "base_uri": "https://localhost:8080/"
        },
        "id": "X9zDSaIQmAkr",
        "outputId": "267cae50-b09d-4fba-b1c1-6d22a5e71987"
      },
      "execution_count": null,
      "outputs": [
        {
          "output_type": "execute_result",
          "data": {
            "text/plain": [
              "array([[[4, 4, 4],\n",
              "        [4, 4, 4],\n",
              "        [4, 4, 4]],\n",
              "\n",
              "       [[4, 4, 4],\n",
              "        [4, 4, 4],\n",
              "        [4, 4, 4]],\n",
              "\n",
              "       [[4, 4, 4],\n",
              "        [4, 4, 4],\n",
              "        [4, 4, 4]]])"
            ]
          },
          "metadata": {},
          "execution_count": 3
        }
      ]
    },
    {
      "cell_type": "code",
      "source": [
        "a=np.full([3,3,3],4,dtype=float)\n",
        "a"
      ],
      "metadata": {
        "colab": {
          "base_uri": "https://localhost:8080/"
        },
        "id": "9rDdwwPxON8Q",
        "outputId": "58a57e60-094b-4947-d1d1-9d8992691411"
      },
      "execution_count": null,
      "outputs": [
        {
          "output_type": "execute_result",
          "data": {
            "text/plain": [
              "array([[[4., 4., 4.],\n",
              "        [4., 4., 4.],\n",
              "        [4., 4., 4.]],\n",
              "\n",
              "       [[4., 4., 4.],\n",
              "        [4., 4., 4.],\n",
              "        [4., 4., 4.]],\n",
              "\n",
              "       [[4., 4., 4.],\n",
              "        [4., 4., 4.],\n",
              "        [4., 4., 4.]]])"
            ]
          },
          "metadata": {},
          "execution_count": 91
        }
      ]
    },
    {
      "cell_type": "code",
      "source": [
        "np.full([3,4],9,dtype=complex)"
      ],
      "metadata": {
        "colab": {
          "base_uri": "https://localhost:8080/"
        },
        "id": "tDWNJ12dmLX7",
        "outputId": "9cfabdf2-c7d8-49df-99b0-989758ab350e"
      },
      "execution_count": null,
      "outputs": [
        {
          "output_type": "execute_result",
          "data": {
            "text/plain": [
              "array([[9.+0.j, 9.+0.j, 9.+0.j, 9.+0.j],\n",
              "       [9.+0.j, 9.+0.j, 9.+0.j, 9.+0.j],\n",
              "       [9.+0.j, 9.+0.j, 9.+0.j, 9.+0.j]])"
            ]
          },
          "metadata": {},
          "execution_count": 4
        }
      ]
    },
    {
      "cell_type": "code",
      "source": [
        "#3x4 matrix with value 9 using complex\n",
        "a=np.full([3,4],9,dtype=complex)\n",
        "a"
      ],
      "metadata": {
        "colab": {
          "base_uri": "https://localhost:8080/"
        },
        "id": "XZRt6ZKROlPK",
        "outputId": "06f32aa8-e975-4016-b1c7-65d89db10173"
      },
      "execution_count": null,
      "outputs": [
        {
          "output_type": "execute_result",
          "data": {
            "text/plain": [
              "array([[9.+0.j, 9.+0.j, 9.+0.j, 9.+0.j],\n",
              "       [9.+0.j, 9.+0.j, 9.+0.j, 9.+0.j],\n",
              "       [9.+0.j, 9.+0.j, 9.+0.j, 9.+0.j]])"
            ]
          },
          "metadata": {},
          "execution_count": 58
        }
      ]
    },
    {
      "cell_type": "markdown",
      "source": [
        "#identity matrix"
      ],
      "metadata": {
        "id": "Z6X43NAKO8-g"
      }
    },
    {
      "cell_type": "code",
      "source": [
        "a=np.identity(3,dtype=int)\n",
        "a"
      ],
      "metadata": {
        "colab": {
          "base_uri": "https://localhost:8080/"
        },
        "id": "jmLu-TpmO-sD",
        "outputId": "54b040fd-d013-4686-9d7e-d4766e9bbe1e"
      },
      "execution_count": null,
      "outputs": [
        {
          "output_type": "execute_result",
          "data": {
            "text/plain": [
              "array([[1, 0, 0],\n",
              "       [0, 1, 0],\n",
              "       [0, 0, 1]])"
            ]
          },
          "metadata": {},
          "execution_count": 63
        }
      ]
    },
    {
      "cell_type": "code",
      "source": [
        "np.identity(3,dtype=float)"
      ],
      "metadata": {
        "colab": {
          "base_uri": "https://localhost:8080/"
        },
        "id": "rp_bSm_3mUle",
        "outputId": "006dd26f-54f6-4c02-9961-70802c55f106"
      },
      "execution_count": null,
      "outputs": [
        {
          "output_type": "execute_result",
          "data": {
            "text/plain": [
              "array([[1., 0., 0.],\n",
              "       [0., 1., 0.],\n",
              "       [0., 0., 1.]])"
            ]
          },
          "metadata": {},
          "execution_count": 7
        }
      ]
    },
    {
      "cell_type": "code",
      "source": [
        "np.identity(3)"
      ],
      "metadata": {
        "colab": {
          "base_uri": "https://localhost:8080/"
        },
        "id": "5hYfODx9QP2U",
        "outputId": "7b0d2404-23dc-4432-ad44-39400e1557c2"
      },
      "execution_count": null,
      "outputs": [
        {
          "output_type": "execute_result",
          "data": {
            "text/plain": [
              "array([[1., 0., 0.],\n",
              "       [0., 1., 0.],\n",
              "       [0., 0., 1.]])"
            ]
          },
          "metadata": {},
          "execution_count": 64
        }
      ]
    },
    {
      "cell_type": "code",
      "source": [
        "np.eye(3)"
      ],
      "metadata": {
        "colab": {
          "base_uri": "https://localhost:8080/"
        },
        "id": "dyBTqAqMQThH",
        "outputId": "7e00331a-ff0d-4630-a6cd-cc4ccd31aa86"
      },
      "execution_count": null,
      "outputs": [
        {
          "output_type": "execute_result",
          "data": {
            "text/plain": [
              "array([[1., 0., 0.],\n",
              "       [0., 1., 0.],\n",
              "       [0., 0., 1.]])"
            ]
          },
          "metadata": {},
          "execution_count": 65
        }
      ]
    },
    {
      "cell_type": "code",
      "source": [
        "#create 4x4 matrix\n",
        "y=np.array([[1,2,3,4],[2,3,4,5],[5,6,7,8],[2,7,6,5]])\n",
        "print(y)\n",
        "print(y.ndim)#row & column\n",
        "print(y.size)\n",
        "print(y.shape)\n",
        "a=y.reshape(8,2)#we cant take 3,4 because array shape is 16 if we take 3,4 it will be only execute 12 elements\n",
        "a"
      ],
      "metadata": {
        "colab": {
          "base_uri": "https://localhost:8080/"
        },
        "id": "r-te2lWhQtny",
        "outputId": "e00c4d85-1341-47ac-eac9-6d7909bfc05d"
      },
      "execution_count": null,
      "outputs": [
        {
          "output_type": "stream",
          "name": "stdout",
          "text": [
            "[[1 2 3 4]\n",
            " [2 3 4 5]\n",
            " [5 6 7 8]\n",
            " [2 7 6 5]]\n",
            "2\n",
            "16\n",
            "(4, 4)\n"
          ]
        },
        {
          "output_type": "execute_result",
          "data": {
            "text/plain": [
              "array([[1, 2],\n",
              "       [3, 4],\n",
              "       [2, 3],\n",
              "       [4, 5],\n",
              "       [5, 6],\n",
              "       [7, 8],\n",
              "       [2, 7],\n",
              "       [6, 5]])"
            ]
          },
          "metadata": {},
          "execution_count": 70
        }
      ]
    },
    {
      "cell_type": "code",
      "source": [
        "a=np.array([[3,4,5],[5,7,8],[1,2,3],[6,7,5]])\n",
        "a.reshape(6,2)"
      ],
      "metadata": {
        "colab": {
          "base_uri": "https://localhost:8080/"
        },
        "id": "9s9_UGbomfIo",
        "outputId": "a21edd18-7f11-4e53-9a73-ebb7127d5cbb"
      },
      "execution_count": null,
      "outputs": [
        {
          "output_type": "execute_result",
          "data": {
            "text/plain": [
              "array([[3, 4],\n",
              "       [5, 5],\n",
              "       [7, 8],\n",
              "       [1, 2],\n",
              "       [3, 6],\n",
              "       [7, 5]])"
            ]
          },
          "metadata": {},
          "execution_count": 12
        }
      ]
    },
    {
      "cell_type": "code",
      "source": [
        "#arange\n",
        "a=np.arange(1,11,)\n",
        "a"
      ],
      "metadata": {
        "colab": {
          "base_uri": "https://localhost:8080/"
        },
        "id": "HaDq8PxZSI7j",
        "outputId": "00e4df2c-2036-4693-878b-7f6f1e8e70af"
      },
      "execution_count": null,
      "outputs": [
        {
          "output_type": "execute_result",
          "data": {
            "text/plain": [
              "array([ 1,  2,  3,  4,  5,  6,  7,  8,  9, 10])"
            ]
          },
          "metadata": {},
          "execution_count": 82
        }
      ]
    },
    {
      "cell_type": "code",
      "source": [
        "a=np.arange(1,11)\n",
        "a.reshape(5,2)"
      ],
      "metadata": {
        "colab": {
          "base_uri": "https://localhost:8080/"
        },
        "id": "3GBVKur2m6Dz",
        "outputId": "582dab55-3cc2-42b8-dfaf-9884f3c66874"
      },
      "execution_count": null,
      "outputs": [
        {
          "output_type": "execute_result",
          "data": {
            "text/plain": [
              "array([[ 1,  2],\n",
              "       [ 3,  4],\n",
              "       [ 5,  6],\n",
              "       [ 7,  8],\n",
              "       [ 9, 10]])"
            ]
          },
          "metadata": {},
          "execution_count": 14
        }
      ]
    },
    {
      "cell_type": "code",
      "source": [
        "a=np.arange(1,11,1)\n",
        "y=a.reshape(5,2)\n",
        "y"
      ],
      "metadata": {
        "colab": {
          "base_uri": "https://localhost:8080/"
        },
        "id": "A59oXVKOSjFV",
        "outputId": "7be339d7-7d13-40c7-8a83-1cd93b9eba95"
      },
      "execution_count": null,
      "outputs": [
        {
          "output_type": "execute_result",
          "data": {
            "text/plain": [
              "array([[ 1,  2],\n",
              "       [ 3,  4],\n",
              "       [ 5,  6],\n",
              "       [ 7,  8],\n",
              "       [ 9, 10]])"
            ]
          },
          "metadata": {},
          "execution_count": 89
        }
      ]
    },
    {
      "cell_type": "code",
      "source": [
        "a=np.array([[2.3,3.2,4.1],[2.1,4.5,6.1],[1.2,3.4,4.5]])\n",
        "z=np.floor(a)\n",
        "y=np.ceil(a)\n",
        "print(z)\n",
        "print(y)"
      ],
      "metadata": {
        "colab": {
          "base_uri": "https://localhost:8080/"
        },
        "id": "AAAh49AYTOxL",
        "outputId": "db4a46d4-0095-4dab-e0ad-21b61abffeb5"
      },
      "execution_count": null,
      "outputs": [
        {
          "output_type": "stream",
          "name": "stdout",
          "text": [
            "[[2. 3. 4.]\n",
            " [2. 4. 6.]\n",
            " [1. 3. 4.]]\n",
            "[[3. 4. 5.]\n",
            " [3. 5. 7.]\n",
            " [2. 4. 5.]]\n"
          ]
        }
      ]
    },
    {
      "cell_type": "code",
      "source": [
        "np.round(z) #towards even number"
      ],
      "metadata": {
        "colab": {
          "base_uri": "https://localhost:8080/"
        },
        "id": "bLpEAOwJVE_F",
        "outputId": "aadf58ca-c974-49da-b1de-41190caecfd6"
      },
      "execution_count": null,
      "outputs": [
        {
          "output_type": "execute_result",
          "data": {
            "text/plain": [
              "array([[2., 3., 4.],\n",
              "       [2., 4., 6.],\n",
              "       [1., 3., 4.]])"
            ]
          },
          "metadata": {},
          "execution_count": 96
        }
      ]
    },
    {
      "cell_type": "code",
      "source": [
        "a=np.arange(1,10).reshape(3,3)\n",
        "print(a)\n",
        "print(\"max of rows\",a.max(axis=1))\n",
        "print(\"max of column\",a.max(axis=0))"
      ],
      "metadata": {
        "colab": {
          "base_uri": "https://localhost:8080/"
        },
        "id": "gc2OxE9QXI97",
        "outputId": "4c4560d8-fbaf-4255-fcd0-4b3eb1b9764d"
      },
      "execution_count": null,
      "outputs": [
        {
          "output_type": "stream",
          "name": "stdout",
          "text": [
            "[[1 2 3]\n",
            " [4 5 6]\n",
            " [7 8 9]]\n",
            "max of rows [3 6 9]\n",
            "max of column [7 8 9]\n"
          ]
        }
      ]
    },
    {
      "cell_type": "code",
      "source": [
        "#s\n",
        "import numpy as np\n",
        "a=np.array([[3,4,1],[5,3,1],[6,9,8]])\n",
        "print(a)\n",
        "b=np.sort(a,axis=0)\n",
        "print(b)\n",
        "c=np.sort(a,axis=1)\n",
        "print(c)\n",
        "d=np.argsort(a,axis=1)#index of sorted array,axis=1 for example the index of array [a] taken to the sorted array\n",
        "print(d)"
      ],
      "metadata": {
        "colab": {
          "base_uri": "https://localhost:8080/"
        },
        "id": "PUnnc1YOmLeT",
        "outputId": "906813ee-7792-4eab-be16-36bb00a3d5b9"
      },
      "execution_count": 10,
      "outputs": [
        {
          "output_type": "stream",
          "name": "stdout",
          "text": [
            "[[3 4 1]\n",
            " [5 3 1]\n",
            " [6 9 8]]\n",
            "[[3 3 1]\n",
            " [5 4 1]\n",
            " [6 9 8]]\n",
            "[[1 3 4]\n",
            " [1 3 5]\n",
            " [6 8 9]]\n",
            "[[2 0 1]\n",
            " [2 1 0]\n",
            " [0 2 1]]\n"
          ]
        }
      ]
    }
  ]
}